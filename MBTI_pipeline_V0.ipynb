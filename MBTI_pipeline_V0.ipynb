{
  "cells": [
    {
      "cell_type": "code",
      "execution_count": 92,
      "metadata": {
        "id": "ncb7XrRzwmQO"
      },
      "outputs": [],
      "source": [
        "import numpy as np\n",
        "import pandas as pd\n",
        "import torch\n",
        "import torch.nn as nn\n",
        "import torch.nn.functional as F\n",
        "import nltk\n",
        "from nltk.corpus import stopwords\n",
        "from collections import Counter\n",
        "import string\n",
        "import re\n",
        "import seaborn as sns\n",
        "from tqdm import tqdm\n",
        "import matplotlib.pyplot as plt\n",
        "from torch.utils.data import TensorDataset, DataLoader\n",
        "from sklearn.model_selection import train_test_split\n",
        "from transformers import BertModel, BertTokenizer"
      ]
    },
    {
      "cell_type": "code",
      "execution_count": 93,
      "metadata": {
        "colab": {
          "base_uri": "https://localhost:8080/"
        },
        "id": "pw1JDQGbxYU2",
        "outputId": "ad73d84e-6581-4e4e-dc0a-f3a00cdfcf2c"
      },
      "outputs": [
        {
          "name": "stderr",
          "output_type": "stream",
          "text": [
            "[nltk_data] Downloading package stopwords to\n",
            "[nltk_data]     /Users/siapatodia/nltk_data...\n",
            "[nltk_data]   Package stopwords is already up-to-date!\n"
          ]
        },
        {
          "data": {
            "text/plain": [
              "True"
            ]
          },
          "execution_count": 93,
          "metadata": {},
          "output_type": "execute_result"
        }
      ],
      "source": [
        "nltk.download('stopwords')"
      ]
    },
    {
      "cell_type": "code",
      "execution_count": 94,
      "metadata": {
        "colab": {
          "base_uri": "https://localhost:8080/"
        },
        "id": "QnGSTsuVxmi6",
        "outputId": "0de0e27f-2667-4f45-9ef6-c7bd18a407a1"
      },
      "outputs": [
        {
          "name": "stdout",
          "output_type": "stream",
          "text": [
            "GPT not available, CPU used\n"
          ]
        }
      ],
      "source": [
        "is_cuda = torch.cuda.is_available()\n",
        "\n",
        "if is_cuda:\n",
        "    device = torch.device('cuda')\n",
        "    print(\"GPU is available\")\n",
        "else:\n",
        "    device = torch.device('cpu')\n",
        "    print(\"GPT not available, CPU used\")"
      ]
    },
    {
      "cell_type": "code",
      "execution_count": 95,
      "metadata": {
        "colab": {
          "base_uri": "https://localhost:8080/"
        },
        "id": "sG-RKsXyyQn2",
        "outputId": "2f23c421-f9bb-4a15-aac1-6110bb33d6ca"
      },
      "outputs": [],
      "source": [
        "# cd sample_data"
      ]
    },
    {
      "cell_type": "code",
      "execution_count": 96,
      "metadata": {
        "colab": {
          "base_uri": "https://localhost:8080/",
          "height": 693
        },
        "id": "7l1muwbgxZos",
        "outputId": "27d02e05-3f07-4c28-8e8f-87953d5f7164"
      },
      "outputs": [
        {
          "name": "stdout",
          "output_type": "stream",
          "text": [
            "<class 'pandas.core.frame.DataFrame'>\n",
            "RangeIndex: 8675 entries, 0 to 8674\n",
            "Data columns (total 2 columns):\n",
            " #   Column  Non-Null Count  Dtype \n",
            "---  ------  --------------  ----- \n",
            " 0   type    8675 non-null   object\n",
            " 1   posts   8675 non-null   object\n",
            "dtypes: object(2)\n",
            "memory usage: 135.7+ KB\n",
            "\n",
            "\n",
            "Count for null values\n",
            "type     0\n",
            "posts    0\n",
            "dtype: int64\n",
            "\n",
            "\n"
          ]
        },
        {
          "name": "stderr",
          "output_type": "stream",
          "text": [
            "/var/folders/4m/wpkqt85d6pb02y39qgck06g40000gn/T/ipykernel_66050/1992408240.py:13: FutureWarning: Series.__getitem__ treating keys as positions is deprecated. In a future version, integer keys will always be treated as labels (consistent with DataFrame behavior). To access a value by position, use `ser.iloc[pos]`\n",
            "  for post in posts[1].split(\"|||\"):\n",
            "/var/folders/4m/wpkqt85d6pb02y39qgck06g40000gn/T/ipykernel_66050/1992408240.py:14: FutureWarning: Series.__getitem__ treating keys as positions is deprecated. In a future version, integer keys will always be treated as labels (consistent with DataFrame behavior). To access a value by position, use `ser.iloc[pos]`\n",
            "  new_posts.append((posts[0], post))\n"
          ]
        },
        {
          "name": "stdout",
          "output_type": "stream",
          "text": [
            "Number of users 8675\n",
            "Number of posts 422845\n"
          ]
        },
        {
          "data": {
            "text/html": [
              "<div>\n",
              "<style scoped>\n",
              "    .dataframe tbody tr th:only-of-type {\n",
              "        vertical-align: middle;\n",
              "    }\n",
              "\n",
              "    .dataframe tbody tr th {\n",
              "        vertical-align: top;\n",
              "    }\n",
              "\n",
              "    .dataframe thead th {\n",
              "        text-align: right;\n",
              "    }\n",
              "</style>\n",
              "<table border=\"1\" class=\"dataframe\">\n",
              "  <thead>\n",
              "    <tr style=\"text-align: right;\">\n",
              "      <th></th>\n",
              "      <th>type</th>\n",
              "      <th>posts</th>\n",
              "    </tr>\n",
              "  </thead>\n",
              "  <tbody>\n",
              "    <tr>\n",
              "      <th>0</th>\n",
              "      <td>INFJ</td>\n",
              "      <td>'http://www.youtube.com/watch?v=qsXHcwe3krw|||...</td>\n",
              "    </tr>\n",
              "    <tr>\n",
              "      <th>1</th>\n",
              "      <td>ENTP</td>\n",
              "      <td>'I'm finding the lack of me in these posts ver...</td>\n",
              "    </tr>\n",
              "    <tr>\n",
              "      <th>2</th>\n",
              "      <td>INTP</td>\n",
              "      <td>'Good one  _____   https://www.youtube.com/wat...</td>\n",
              "    </tr>\n",
              "    <tr>\n",
              "      <th>3</th>\n",
              "      <td>INTJ</td>\n",
              "      <td>'Dear INTP,   I enjoyed our conversation the o...</td>\n",
              "    </tr>\n",
              "    <tr>\n",
              "      <th>4</th>\n",
              "      <td>ENTJ</td>\n",
              "      <td>'You're fired.|||That's another silly misconce...</td>\n",
              "    </tr>\n",
              "    <tr>\n",
              "      <th>5</th>\n",
              "      <td>INTJ</td>\n",
              "      <td>'18/37 @.@|||Science  is not perfect. No scien...</td>\n",
              "    </tr>\n",
              "    <tr>\n",
              "      <th>6</th>\n",
              "      <td>INFJ</td>\n",
              "      <td>'No, I can't draw on my own nails (haha). Thos...</td>\n",
              "    </tr>\n",
              "    <tr>\n",
              "      <th>7</th>\n",
              "      <td>INTJ</td>\n",
              "      <td>'I tend to build up a collection of things on ...</td>\n",
              "    </tr>\n",
              "    <tr>\n",
              "      <th>8</th>\n",
              "      <td>INFJ</td>\n",
              "      <td>I'm not sure, that's a good question. The dist...</td>\n",
              "    </tr>\n",
              "    <tr>\n",
              "      <th>9</th>\n",
              "      <td>INTP</td>\n",
              "      <td>'https://www.youtube.com/watch?v=w8-egj0y8Qs||...</td>\n",
              "    </tr>\n",
              "  </tbody>\n",
              "</table>\n",
              "</div>"
            ],
            "text/plain": [
              "   type                                              posts\n",
              "0  INFJ  'http://www.youtube.com/watch?v=qsXHcwe3krw|||...\n",
              "1  ENTP  'I'm finding the lack of me in these posts ver...\n",
              "2  INTP  'Good one  _____   https://www.youtube.com/wat...\n",
              "3  INTJ  'Dear INTP,   I enjoyed our conversation the o...\n",
              "4  ENTJ  'You're fired.|||That's another silly misconce...\n",
              "5  INTJ  '18/37 @.@|||Science  is not perfect. No scien...\n",
              "6  INFJ  'No, I can't draw on my own nails (haha). Thos...\n",
              "7  INTJ  'I tend to build up a collection of things on ...\n",
              "8  INFJ  I'm not sure, that's a good question. The dist...\n",
              "9  INTP  'https://www.youtube.com/watch?v=w8-egj0y8Qs||..."
            ]
          },
          "execution_count": 96,
          "metadata": {},
          "output_type": "execute_result"
        }
      ],
      "source": [
        "# load data\n",
        "df = pd.read_csv(\"../input/mbti_1.csv\")\n",
        "df.info()\n",
        "print(\"\\n\")\n",
        "\n",
        "# Check null values\n",
        "print(\"Count for null values\")\n",
        "print(df[df.isnull()].count())\n",
        "\n",
        "print(\"\\n\")\n",
        "\n",
        "def get_post(posts, new_posts):\n",
        "    for post in posts[1].split(\"|||\"):\n",
        "        new_posts.append((posts[0], post))\n",
        "posts = []\n",
        "df.apply(lambda x: get_post(x, posts), axis=1)\n",
        "print(\"Number of users\", len(df))\n",
        "print(\"Number of posts\", len(posts))\n",
        "\n",
        "df.head(10)"
      ]
    },
    {
      "cell_type": "code",
      "execution_count": 97,
      "metadata": {
        "colab": {
          "base_uri": "https://localhost:8080/"
        },
        "id": "CMDVXpBPxoAl",
        "outputId": "d9b848fc-dbb8-494d-93e3-cef8293b708d"
      },
      "outputs": [
        {
          "name": "stdout",
          "output_type": "stream",
          "text": [
            "(8675, 2)\n",
            "   type                                              posts\n",
            "0  INFJ      enfp  intj moments   sportscenter    plays...\n",
            "1  ENTP   finding  lack    these posts very alarming EO...\n",
            "2  INTP  good         course  which    know thats  bles...\n",
            "3  INTJ  dear intp    enjoyed  conversation  other  EOS...\n",
            "4  ENTJ  youre fired EOSTokenDot    thats another silly...\n"
          ]
        }
      ],
      "source": [
        "# Data processing\n",
        "def process(df, remove_special=True):\n",
        "    # Change to lowercase\n",
        "    df['posts'] = df['posts'].apply(lambda x: x.lower())\n",
        "\n",
        "    #Change case => lowercase - alternative method to change case\n",
        "    #df[\"posts\"] = df[\"posts\"].apply(lambda x: x.lower())\n",
        "\n",
        "    #Remove acronyms of personality types within text, for accrate prediction with unknown data\n",
        "    if remove_special:\n",
        "        pers_types = ['INFP' ,'INFJ', 'INTP', 'INTJ', 'ENTP', 'ENFP', 'ISTP' ,'ISFP' ,'ENTJ', 'ISTJ','ENFJ', 'ISFJ' ,'ESTP', 'ESFP' ,'ESFJ' ,'ESTJ']\n",
        "        pers_types = [p.lower() for p in pers_types]\n",
        "        p = re.compile(\"(\" + \"|\".join(pers_types) + \")\")\n",
        "\n",
        "    #Substitute hyperlinks with space\n",
        "    df[\"posts\"] = df[\"posts\"].apply(lambda x: re.sub(r'https?:\\/\\/.*?[\\s+]', '', x.replace(\"|\",\" \") + \" \"))\n",
        "    df[\"posts\"] = df[\"posts\"].apply(lambda x: re.sub(r'https', '', x.replace(\"|\",\" \") + \" \"))\n",
        "\n",
        "    # Substitute punctuations except EOS characters\n",
        "        #Substitute all punctuation except EOS characters\n",
        "    df[\"posts\"] = df[\"posts\"].apply(lambda x: re.sub(r'\\.', ' EOSTokenDot ', x + \" \"))\n",
        "    df[\"posts\"] = df[\"posts\"].apply(lambda x: re.sub(r'\\?', ' EOSTokenQuest ', x + \" \"))\n",
        "    df[\"posts\"] = df[\"posts\"].apply(lambda x: re.sub(r'!', ' EOSTokenExs ', x + \" \"))\n",
        "    df[\"posts\"] = df[\"posts\"].apply(lambda x: re.sub(r'[\\.+]', \".\",x))  #remove punctuation\n",
        "    df[\"posts\"] = df[\"posts\"].apply(lambda x: re.sub(r'[^\\w\\s]','',x))  #avoid multiple full stops\n",
        "\n",
        "    #Remove Numeric + Spl chars\n",
        "    df[\"posts\"] = df[\"posts\"].apply(lambda x: re.sub(r'[^a-zA-Z\\s]','',x))\n",
        "\n",
        "    #Remove multiple letters\n",
        "    df[\"posts\"] = df[\"posts\"].apply(lambda x: re.sub(r'([a-z])\\1{2,}[\\s|\\w]*','',x))\n",
        "\n",
        "    #Keep words within acceptable range (min letter 3, max 30)\n",
        "    df[\"posts\"] = df[\"posts\"].apply(lambda x: re.sub(r'(\\b\\w{0,3})?\\b','',x))\n",
        "    df[\"posts\"] = df[\"posts\"].apply(lambda x: re.sub(r'(\\b\\w{30,1000})?\\b','',x))\n",
        "    return df\n",
        "\n",
        "#Call function on data set\n",
        "df = process(df, remove_special=True)\n",
        "print(df.shape)\n",
        "print(df.head())\n"
      ]
    },
    {
      "cell_type": "code",
      "execution_count": 98,
      "metadata": {
        "colab": {
          "base_uri": "https://localhost:8080/",
          "height": 258
        },
        "id": "4V3V5vX2x9h_",
        "outputId": "24453e72-fe79-453c-cd5c-63b9069d08fe"
      },
      "outputs": [
        {
          "name": "stdout",
          "output_type": "stream",
          "text": [
            "All posts : 8675\n",
            "Benchmarked posts : 8504\n",
            "\n"
          ]
        },
        {
          "data": {
            "text/html": [
              "<div>\n",
              "<style scoped>\n",
              "    .dataframe tbody tr th:only-of-type {\n",
              "        vertical-align: middle;\n",
              "    }\n",
              "\n",
              "    .dataframe tbody tr th {\n",
              "        vertical-align: top;\n",
              "    }\n",
              "\n",
              "    .dataframe thead th {\n",
              "        text-align: right;\n",
              "    }\n",
              "</style>\n",
              "<table border=\"1\" class=\"dataframe\">\n",
              "  <thead>\n",
              "    <tr style=\"text-align: right;\">\n",
              "      <th></th>\n",
              "      <th>type</th>\n",
              "      <th>posts</th>\n",
              "      <th>Words</th>\n",
              "    </tr>\n",
              "  </thead>\n",
              "  <tbody>\n",
              "    <tr>\n",
              "      <th>0</th>\n",
              "      <td>INFJ</td>\n",
              "      <td>enfp  intj moments   sportscenter    plays...</td>\n",
              "      <td>430</td>\n",
              "    </tr>\n",
              "    <tr>\n",
              "      <th>1</th>\n",
              "      <td>ENTP</td>\n",
              "      <td>finding  lack    these posts very alarming EO...</td>\n",
              "      <td>803</td>\n",
              "    </tr>\n",
              "    <tr>\n",
              "      <th>2</th>\n",
              "      <td>INTP</td>\n",
              "      <td>good         course  which    know thats  bles...</td>\n",
              "      <td>253</td>\n",
              "    </tr>\n",
              "    <tr>\n",
              "      <th>3</th>\n",
              "      <td>INTJ</td>\n",
              "      <td>dear intp    enjoyed  conversation  other  EOS...</td>\n",
              "      <td>777</td>\n",
              "    </tr>\n",
              "    <tr>\n",
              "      <th>4</th>\n",
              "      <td>ENTJ</td>\n",
              "      <td>youre fired EOSTokenDot    thats another silly...</td>\n",
              "      <td>402</td>\n",
              "    </tr>\n",
              "  </tbody>\n",
              "</table>\n",
              "</div>"
            ],
            "text/plain": [
              "   type                                              posts  Words\n",
              "0  INFJ      enfp  intj moments   sportscenter    plays...    430\n",
              "1  ENTP   finding  lack    these posts very alarming EO...    803\n",
              "2  INTP  good         course  which    know thats  bles...    253\n",
              "3  INTJ  dear intp    enjoyed  conversation  other  EOS...    777\n",
              "4  ENTJ  youre fired EOSTokenDot    thats another silly...    402"
            ]
          },
          "execution_count": 98,
          "metadata": {},
          "output_type": "execute_result"
        }
      ],
      "source": [
        "#Set benchmark for comments/posts - minimum length\n",
        "min_w = 10\n",
        "print (\"All posts :\", df.shape[0])\n",
        "df['Words'] = df['posts'].apply(lambda x: len(re.findall(r'\\w+',x)))\n",
        "df = df[df['Words'] >= min_w]\n",
        "print (\"Benchmarked posts :\", df.shape[0])\n",
        "print()\n",
        "\n",
        "df.head()"
      ]
    },
    {
      "cell_type": "code",
      "execution_count": 99,
      "metadata": {
        "id": "68VFrVLLx_Pz"
      },
      "outputs": [],
      "source": [
        "# # Label encoding - convert personality type into numerical form\n",
        "# enc = LabelEncoder()\n",
        "# df[\"type of encoding\"] = enc.fit_transform(df['type'])\n",
        "# target = df['type of encoding']\n",
        "# df.head(10)"
      ]
    },
    {
      "cell_type": "code",
      "execution_count": 100,
      "metadata": {
        "id": "XPY9sUnKyAq8"
      },
      "outputs": [],
      "source": [
        "X, y = df['posts'].values, df['type'].values"
      ]
    },
    {
      "cell_type": "code",
      "execution_count": 101,
      "metadata": {
        "colab": {
          "base_uri": "https://localhost:8080/"
        },
        "id": "zzp9gngeyDpZ",
        "outputId": "596b9ce1-af4c-44ee-9988-287805f96850"
      },
      "outputs": [
        {
          "name": "stdout",
          "output_type": "stream",
          "text": [
            "Shape of train data is (6378,)\n",
            "Shape of test data is (2126,)\n"
          ]
        }
      ],
      "source": [
        "X_train, X_test, y_train, y_test = train_test_split(X, y, stratify=y)\n",
        "print(f\"Shape of train data is {X_train.shape}\")\n",
        "print(f\"Shape of test data is {X_test.shape}\")"
      ]
    },
    {
      "cell_type": "code",
      "execution_count": 102,
      "metadata": {
        "colab": {
          "base_uri": "https://localhost:8080/"
        },
        "id": "bVFmaxkoyJbd",
        "outputId": "7c7158e5-751e-4b13-ec2f-4c6ad8bcf97a"
      },
      "outputs": [
        {
          "data": {
            "text/plain": [
              "((6378,), (6378,), (2126,), (2126,))"
            ]
          },
          "execution_count": 102,
          "metadata": {},
          "output_type": "execute_result"
        }
      ],
      "source": [
        "X_train.shape, y_train.shape, X_test.shape, y_test.shape"
      ]
    },
    {
      "cell_type": "code",
      "execution_count": 103,
      "metadata": {
        "colab": {
          "base_uri": "https://localhost:8080/",
          "height": 433
        },
        "id": "OdukK9XOyK1C",
        "outputId": "9b401357-8f7e-48ca-9895-e7238cc4deb6"
      },
      "outputs": [
        {
          "data": {
            "image/png": "[encoded data removed]",
            "text/plain": [
              "<Figure size 640x480 with 1 Axes>"
            ]
          },
          "metadata": {},
          "output_type": "display_data"
        }
      ],
      "source": [
        "# Analyze distribution of types\n",
        "dd = pd.Series(y_train).value_counts()\n",
        "sns.barplot(x=np.array(['INFP' ,'INFJ', 'INTP', 'INTJ', 'ENTP', 'ENFP', 'ISTP' ,'ISFP' ,'ENTJ', 'ISTJ','ENFJ', 'ISFJ' ,'ESTP', 'ESFP' ,'ESFJ' ,'ESTJ']), y=dd.values)\n",
        "plt.show()"
      ]
    },
    {
      "cell_type": "code",
      "execution_count": 83,
      "metadata": {
        "id": "YCVAjs-9yMYm"
      },
      "outputs": [],
      "source": [
        "'''def tockenize(X_train, y_train, X_val, y_val):\n",
        "    word_list = []\n",
        "    stop_words = set(stopwords.words('english'))\n",
        "    labels = ['INFP' ,'INFJ', 'INTP', 'INTJ', 'ENTP', 'ENFP', 'ISTP' ,\n",
        "              'ISFP' ,'ENTJ', 'ISTJ','ENFJ', 'ISFJ' ,'ESTP', 'ESFP' ,\n",
        "              'ESFJ' ,'ESTJ']\n",
        "    for sent in X_train:\n",
        "        for word in sent.lower().split():\n",
        "            # word = process_string(word)\n",
        "            if word not in stop_words and word != '':\n",
        "                word_list.append(word)\n",
        "    corpus = Counter(word_list)\n",
        "    # sorting on the basis of most common words\n",
        "    corpus_ = sorted(corpus, key=corpus.get, reverse=True)[:1000]\n",
        "    # creating a dict\n",
        "    onehot_dict = {w: i+1 for i,w in enumerate(corpus_)}\n",
        "\n",
        "    # tockenize\n",
        "    final_list_train, final_list_test = [], []\n",
        "    for sent in X_train:\n",
        "        final_list_train.append([onehot_dict[word] for word in sent.lower().split()\n",
        "                                if word in onehot_dict.keys()])\n",
        "\n",
        "    for sent in X_val:\n",
        "        final_list_test.append([onehot_dict[word] for word in sent.lower().split()\n",
        "                                if word in onehot_dict.keys()])\n",
        "    encoded_train = [labels.index(label) for label in y_train]\n",
        "    encoded_test = [labels.index(label) for label in y_val]\n",
        "    return np.array(final_list_train,dtype='O'), np.array(encoded_train,dtype='O'), np.array(final_list_test,dtype='O'), np.array(encoded_test,dtype='O'), onehot_dict'''"
      ]
    },
    {
      "cell_type": "code",
      "execution_count": 104,
      "metadata": {},
      "outputs": [],
      "source": [
        "def tokenize(X_train, y_train, X_val, y_val):\n",
        "    # Initialize the BERT tokenizer\n",
        "    tokenizer = BertTokenizer.from_pretrained('bert-base-uncased')\n",
        "\n",
        "    # Tokenize input texts\n",
        "    encoded_train = tokenizer(X_train, padding=True, truncation=True, return_tensors=\"pt\", max_length=1000)\n",
        "    encoded_val = tokenizer(X_val, padding=True, truncation=True, return_tensors=\"pt\", max_length=1000)\n",
        "\n",
        "    # Convert labels to indices\n",
        "    labels = ['INFP', 'INFJ', 'INTP', 'INTJ', 'ENTP', 'ENFP', 'ISTP',\n",
        "              'ISFP', 'ENTJ', 'ISTJ', 'ENFJ', 'ISFJ', 'ESTP', 'ESFP',\n",
        "              'ESFJ', 'ESTJ']\n",
        "    encoded_train_labels = torch.tensor([labels.index(label) for label in y_train], dtype='O')\n",
        "    encoded_val_labels = torch.tensor([labels.index(label) for label in y_val], dtype='O')\n",
        "\n",
        "    return encoded_train['input_ids'], encoded_train_labels, encoded_val['input_ids'], encoded_val_labels, tokenizer.get_vocab()"
      ]
    },
    {
      "cell_type": "code",
      "execution_count": 105,
      "metadata": {
        "id": "JKC2ytpyyOAw"
      },
      "outputs": [],
      "source": [
        "X_train, y_train, X_test, y_test, vocab = tockenize(X_train, y_train, X_test, y_test)"
      ]
    },
    {
      "cell_type": "code",
      "execution_count": 106,
      "metadata": {
        "id": "GJtEOgs5yTWL"
      },
      "outputs": [],
      "source": [
        "# Padding\n",
        "def padding_(sentences, seq_len):\n",
        "    features = np.zeros((len(sentences), seq_len), dtype=int)\n",
        "    for ii, review in enumerate(sentences):\n",
        "        if len(review) != 0:\n",
        "            features[ii, -len(review):] = np.array(review)[:seq_len]\n",
        "    return features"
      ]
    },
    {
      "cell_type": "code",
      "execution_count": 107,
      "metadata": {
        "id": "UtKG3ojVyVA-"
      },
      "outputs": [],
      "source": [
        "# We have very less number of reviews with length > 500.\n",
        "# So we will consider only below it\n",
        "X_train_pad = padding_(X_train, 500)\n",
        "X_test_pad = padding_(X_test, 500)"
      ]
    },
    {
      "cell_type": "code",
      "execution_count": 108,
      "metadata": {
        "id": "qUYfHbIjyW4e"
      },
      "outputs": [],
      "source": [
        "y_train = y_train.astype(int)\n",
        "y_test = y_test.astype(int)"
      ]
    },
    {
      "cell_type": "code",
      "execution_count": 109,
      "metadata": {
        "id": "KnQm6I4cyYDt"
      },
      "outputs": [],
      "source": [
        "# Batching and loading as tensor\n",
        "# Create Tensor datasets\n",
        "train_data = TensorDataset(torch.from_numpy(X_train_pad), torch.from_numpy(y_train))\n",
        "valid_data = TensorDataset(torch.from_numpy(X_test_pad), torch.from_numpy(y_test))\n",
        "\n",
        "# dataloaders\n",
        "batch_size = 50\n",
        "\n",
        "# make sure to SHUFFLE data\n",
        "train_loader = DataLoader(train_data, shuffle=True, batch_size=batch_size, drop_last=True)\n",
        "valid_loader = DataLoader(valid_data, shuffle=True, batch_size=batch_size, drop_last=True)"
      ]
    },
    {
      "cell_type": "code",
      "execution_count": 110,
      "metadata": {
        "colab": {
          "base_uri": "https://localhost:8080/"
        },
        "id": "Ut2pFj4pyaC9",
        "outputId": "78da2e02-e183-4d96-fa1e-fbf80884856c"
      },
      "outputs": [
        {
          "name": "stdout",
          "output_type": "stream",
          "text": [
            "Sample input size:  torch.Size([50, 500])\n",
            "Sample input: \n",
            " tensor([[ 10, 179,  42,  ...,   1,  73, 382],\n",
            "        [742,  79,  36,  ..., 310, 489,  74],\n",
            "        [ 78,   2, 416,  ...,   1, 104, 577],\n",
            "        ...,\n",
            "        [  0,   0,   0,  ..., 972,  41, 181],\n",
            "        [  8,  29, 955,  ...,  93,   1,   1],\n",
            "        [ 88, 413,  87,  ...,   1,  34,  13]])\n",
            "Sample Output: \n",
            " tensor([ 6,  0,  2, 11,  1,  6,  1,  7, 10,  3, 12,  2,  3,  4,  3,  4,  0,  2,\n",
            "         1,  4,  8,  0,  2,  1,  1,  5,  1,  9,  3,  0,  5,  1,  0,  2, 10,  1,\n",
            "         1, 11,  3,  2,  8,  9,  3,  2,  3,  2,  4,  0,  5,  5])\n"
          ]
        }
      ],
      "source": [
        "# obtain one batch of training data\n",
        "detaiter = iter(train_loader)\n",
        "sample_X, sample_y = next(detaiter)\n",
        "\n",
        "print(\"Sample input size: \", sample_X.size()) # batch_size, seq_size\n",
        "print(\"Sample input: \\n\", sample_X)\n",
        "print(\"Sample Output: \\n\", sample_y)"
      ]
    },
    {
      "cell_type": "code",
      "execution_count": 111,
      "metadata": {
        "id": "OgSaaLLayjHL"
      },
      "outputs": [],
      "source": [
        "# Model\n",
        "class MBTIRNN(nn.Module):\n",
        "    def __init__(self, no_layers, vocab_size, hidden_dim, embedding_dim, drop_prob=0.5):\n",
        "        super(MBTIRNN, self).__init__()\n",
        "        self.output_dim = 1\n",
        "        self.hidden_dim = hidden_dim\n",
        "\n",
        "        self.no_layers = no_layers\n",
        "        self.vocab_size = vocab_size\n",
        "\n",
        "        # embedding and LSTM layers\n",
        "        self.embedding = nn.Embedding(vocab_size, embedding_dim)\n",
        "\n",
        "        # lstm\n",
        "        self.lstm = nn.LSTM(input_size=embedding_dim, hidden_size=self.hidden_dim,\n",
        "                            num_layers=no_layers, batch_first=True)\n",
        "\n",
        "        # dropout layer\n",
        "        self.dropout = nn.Dropout(0.3)\n",
        "\n",
        "        # linear and sigmoid layer\n",
        "        self.fc = nn.Linear(self.hidden_dim, output_dim)\n",
        "        self.sig = nn.Sigmoid()\n",
        "\n",
        "    def forward(self, x, hidden):\n",
        "        batch_size = x.size(0)\n",
        "        # embeddings and lstm_out\n",
        "        embeds = self.embedding(x) # Shape: B x S x Feature since batch = True\n",
        "        lstm_out, hidden = self.lstm(embeds, hidden)\n",
        "\n",
        "        lstm_out = lstm_out.contiguous().view(-1, self.hidden_dim)\n",
        "\n",
        "        # dropout and fully connected layer\n",
        "        out = self.dropout(lstm_out)\n",
        "        out = self.fc(out)\n",
        "\n",
        "        # sigmoid function\n",
        "        sig_out = self.sig(out)\n",
        "\n",
        "        # reshape to be batch_size first\n",
        "        sig_out = sig_out.view(batch_size, -1)\n",
        "\n",
        "        sig_out = sig_out[:, -1] # get last batch of labels\n",
        "\n",
        "        # return last sigmoid output and hidden state\n",
        "        return sig_out, hidden\n",
        "\n",
        "    def init_hidden(self, batch_size):\n",
        "        # Create two new tensors with sizes n_layers x batch_size x hidden_dim,\n",
        "        # initialized to zero, for hidden state and cell state of LSTM\n",
        "        h0 = torch.zeros((self.no_layers, batch_size, self.hidden_dim)).to(device)\n",
        "        c0 = torch.zeros((self.no_layers, batch_size, self.hidden_dim)).to(device)\n",
        "        hidden = (h0, c0)\n",
        "        return hidden"
      ]
    },
    {
      "cell_type": "code",
      "execution_count": 112,
      "metadata": {
        "colab": {
          "base_uri": "https://localhost:8080/"
        },
        "id": "bF9YOmGeyl9z",
        "outputId": "2b8dd4b2-4349-4bc2-c83e-31eded23e2c6"
      },
      "outputs": [
        {
          "name": "stdout",
          "output_type": "stream",
          "text": [
            "MBTIRNN(\n",
            "  (embedding): Embedding(1001, 80)\n",
            "  (lstm): LSTM(80, 256, num_layers=2, batch_first=True)\n",
            "  (dropout): Dropout(p=0.3, inplace=False)\n",
            "  (fc): Linear(in_features=256, out_features=1, bias=True)\n",
            "  (sig): Sigmoid()\n",
            ")\n"
          ]
        }
      ],
      "source": [
        "no_layers = 2\n",
        "vocab_size = len(vocab) + 1 # extra 1 for padding\n",
        "embedding_dim = 80\n",
        "output_dim = 1\n",
        "hidden_dim = 256\n",
        "\n",
        "model = MBTIRNN(no_layers, vocab_size, hidden_dim, embedding_dim, drop_prob=0.5)\n",
        "\n",
        "model.to(device)\n",
        "\n",
        "print(model)"
      ]
    },
    {
      "cell_type": "code",
      "execution_count": 113,
      "metadata": {
        "id": "BZBXw77jynWI"
      },
      "outputs": [],
      "source": [
        "# loss and optimization functions\n",
        "lr = 0.005\n",
        "\n",
        "criterion = nn.CrossEntropyLoss()\n",
        "\n",
        "optimizer = torch.optim.Adam(model.parameters(), lr=lr)\n",
        "\n",
        "# function to predict accuracy\n",
        "def acc(pred, label):\n",
        "    pred = torch.round(pred.squeeze())\n",
        "    return torch.sum(pred == label.squeeze()).item()"
      ]
    },
    {
      "cell_type": "code",
      "execution_count": 114,
      "metadata": {
        "colab": {
          "base_uri": "https://localhost:8080/"
        },
        "id": "-15uUGaFyoY4",
        "outputId": "5221e7c7-3890-4480-cda2-f19fd28e07c5"
      },
      "outputs": [
        {
          "name": "stderr",
          "output_type": "stream",
          "text": [
            "/var/folders/4m/wpkqt85d6pb02y39qgck06g40000gn/T/ipykernel_66050/3019054020.py:31: UserWarning: torch.nn.utils.clip_grad_norm is now deprecated in favor of torch.nn.utils.clip_grad_norm_.\n",
            "  nn.utils.clip_grad_norm(model.parameters(), clip)\n"
          ]
        },
        {
          "name": "stdout",
          "output_type": "stream",
          "text": [
            "Epoch 1\n",
            "train_loss : 623.5799183282327 val_loss : 623.688244774228\n",
            "train_accuracy : 17.293822514894952 val_accuracy : 0.16839134524929444\n",
            "Validation loss decreased (inf --> 623.688245). Saving model ...\n",
            "==================================================\n",
            "Epoch 2\n",
            "train_loss : 623.1568860632228 val_loss : 624.61965070452\n",
            "train_accuracy : 16.933207902163687 val_accuracy : 0.16792097836312322\n",
            "==================================================\n"
          ]
        }
      ],
      "source": [
        "clip = 5\n",
        "epochs = 5\n",
        "valid_loss_min = np.Inf\n",
        "# train for some number of epochs\n",
        "epoch_tr_loss, epoch_vl_loss = [], []\n",
        "epoch_tr_acc, epoch_vl_acc = [], []\n",
        "\n",
        "for epoch in range(epochs):\n",
        "    train_losses = []\n",
        "    train_acc = 0.0\n",
        "    model.train()\n",
        "    # initialize hidden srate\n",
        "    h = model.init_hidden(batch_size)\n",
        "    for inputs, labels in train_loader:\n",
        "        inputs, labels = inputs.to(device), labels.to(device)\n",
        "        # creating new variables for the hidden state, otherwise\n",
        "        # we'd backprop through the entire training history\n",
        "        h = tuple([each.data for each in h])\n",
        "\n",
        "        model.zero_grad()\n",
        "        output, h = model(inputs, h)\n",
        "\n",
        "        # calculate the loss and perform backprop\n",
        "        loss = criterion(output.squeeze(), labels.float())\n",
        "        loss.backward()\n",
        "        train_losses.append(loss.item())\n",
        "        # calculate accuracy\n",
        "        accuracy = acc(output, labels)\n",
        "        train_acc += accuracy\n",
        "        # `clip_grad_norm` helps prevent the exploding gradient problem in RNNs/LSTMs\n",
        "        nn.utils.clip_grad_norm(model.parameters(), clip)\n",
        "        optimizer.step()\n",
        "\n",
        "    val_h = model.init_hidden(batch_size)\n",
        "    val_losses = []\n",
        "    val_acc = 0.0\n",
        "    model.eval()\n",
        "    with torch.inference_mode():\n",
        "      for input, labels in valid_loader:\n",
        "          val_h = tuple([each.data for each in val_h])\n",
        "          inputs, labels = inputs.to(device), labels.to(device)\n",
        "\n",
        "          output, val_h = model(inputs, val_h)\n",
        "          val_loss = criterion(output.squeeze(), labels.float())\n",
        "          val_losses.append(val_loss.item())\n",
        "\n",
        "          accuracy = acc(output, labels)\n",
        "          val_acc += accuracy\n",
        "\n",
        "    epoch_train_loss = np.mean(train_losses)\n",
        "    epoch_val_loss = np.mean(val_losses)\n",
        "    epoch_train_acc = train_acc / len(train_loader.dataset)\n",
        "    epoch_val_acc = val_acc / len(valid_loader.dataset)\n",
        "    epoch_tr_loss.append(epoch_train_loss)\n",
        "    epoch_vl_loss.append(epoch_val_loss)\n",
        "    epoch_tr_acc.append(epoch_train_acc)\n",
        "    epoch_vl_acc.append(epoch_val_acc)\n",
        "    print(f\"Epoch {epoch + 1}\")\n",
        "    print(f\"train_loss : {epoch_train_loss} val_loss : {epoch_val_loss}\")\n",
        "    print(f\"train_accuracy : {epoch_train_acc*100} val_accuracy : {epoch_val_acc}\")\n",
        "    if epoch_val_loss <= valid_loss_min:\n",
        "        torch.save(model.state_dict(), '../models/state_dict.pt')\n",
        "        print(\"Validation loss decreased ({:.6f} --> {:.6f}). Saving model ...\".format(valid_loss_min, epoch_val_loss))\n",
        "        valid_loss_min = epoch_val_loss\n",
        "    print(25*\"==\")"
      ]
    },
    {
      "cell_type": "code",
      "execution_count": null,
      "metadata": {
        "colab": {
          "base_uri": "https://localhost:8080/",
          "height": 383
        },
        "id": "rerfHSu_z-BW",
        "outputId": "61d453b1-ab71-4710-dfc2-e1de355e928f"
      },
      "outputs": [
        {
          "data": {
            "image/png": "[encoded data removed]",
            "text/plain": [
              "<Figure size 2000x600 with 2 Axes>"
            ]
          },
          "metadata": {},
          "output_type": "display_data"
        }
      ],
      "source": [
        "fit = plt.figure(figsize = (20, 6))\n",
        "plt.subplot(1, 2, 1)\n",
        "plt.plot(epoch_tr_acc, label=\"Train accuracy\")\n",
        "plt.plot(epoch_vl_acc, label=\"Validation accuracy\")\n",
        "plt.title(\"Accuracy\")\n",
        "plt.legend()\n",
        "plt.grid()\n",
        "\n",
        "plt.subplot(1, 2, 2)\n",
        "plt.plot(epoch_tr_loss, label=\"Train loss\")\n",
        "plt.plot(epoch_vl_loss, label=\"Validation loss\")\n",
        "plt.title(\"Loss\")\n",
        "plt.legend()\n",
        "plt.grid()\n",
        "\n",
        "plt.show()"
      ]
    },
    {
      "cell_type": "code",
      "execution_count": null,
      "metadata": {
        "id": "NsE8TkdwypZQ"
      },
      "outputs": [],
      "source": []
    }
  ],
  "metadata": {
    "accelerator": "GPU",
    "colab": {
      "gpuType": "T4",
      "provenance": []
    },
    "kernelspec": {
      "display_name": "Python 3",
      "name": "python3"
    },
    "language_info": {
      "codemirror_mode": {
        "name": "ipython",
        "version": 3
      },
      "file_extension": ".py",
      "mimetype": "text/x-python",
      "name": "python",
      "nbconvert_exporter": "python",
      "pygments_lexer": "ipython3",
      "version": "3.9.18"
    }
  },
  "nbformat": 4,
  "nbformat_minor": 0
}
